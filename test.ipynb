{
 "cells": [
  {
   "cell_type": "code",
   "execution_count": 1,
   "id": "be2fb5fe",
   "metadata": {},
   "outputs": [],
   "source": [
    "from infoflow.classdb import *"
   ]
  },
  {
   "cell_type": "code",
   "execution_count": 2,
   "id": "7cffa7ce",
   "metadata": {},
   "outputs": [],
   "source": [
    "db = create_db(\"data/infoflow.db\")"
   ]
  },
  {
   "cell_type": "code",
   "execution_count": 3,
   "id": "71784829",
   "metadata": {},
   "outputs": [
    {
     "data": {
      "text/plain": [
       "improvements, information_items, tools"
      ]
     },
     "execution_count": 3,
     "metadata": {},
     "output_type": "execute_result"
    }
   ],
   "source": [
    "db.t"
   ]
  },
  {
   "cell_type": "code",
   "execution_count": 4,
   "id": "17c01a8c",
   "metadata": {},
   "outputs": [
    {
     "data": {
      "text/plain": [
       "{'name': 'Readwise',\n",
       " 'collect': None,\n",
       " 'retrieve': None,\n",
       " 'consume': None,\n",
       " 'extract': None,\n",
       " 'refine': None,\n",
       " 'slug': 'readwise',\n",
       " 'organization_system': '[\"tags\"]',\n",
       " 'collect_quality': 'na',\n",
       " 'retrieve_quality': 'ok',\n",
       " 'consume_quality': 'na',\n",
       " 'extract_quality': 'great',\n",
       " 'refine_quality': 'ok'}"
      ]
     },
     "execution_count": 4,
     "metadata": {},
     "output_type": "execute_result"
    }
   ],
   "source": [
    "db.t.tools()[2]"
   ]
  },
  {
   "cell_type": "code",
   "execution_count": 5,
   "id": "a9cf51de",
   "metadata": {},
   "outputs": [],
   "source": [
    "td = dict_from_db(db.t.tools, Tool)"
   ]
  },
  {
   "cell_type": "code",
   "execution_count": 6,
   "id": "e0536b13",
   "metadata": {},
   "outputs": [
    {
     "data": {
      "text/plain": [
       "{'reader': Tool(name='Reader', organization_system=[<OrganizationSystem.TAGS: 'tags'>], phase_quality=PhaseQualityData(collect=<PhaseQuality.GREAT: 'great'>, retrieve=<PhaseQuality.BAD: 'bad'>, consume=<PhaseQuality.GREAT: 'great'>, extract=<PhaseQuality.NA: 'na'>, refine=<PhaseQuality.NA: 'na'>), collect=None, retrieve=None, consume=None, extract=None, refine=None, slug='reader'),\n",
       " 'recall': Tool(name='Recall', organization_system=[<OrganizationSystem.LINKS: 'links'>], phase_quality=PhaseQualityData(collect=<PhaseQuality.GREAT: 'great'>, retrieve=<PhaseQuality.GREAT: 'great'>, consume=<PhaseQuality.NA: 'na'>, extract=<PhaseQuality.NA: 'na'>, refine=<PhaseQuality.GREAT: 'great'>), collect=None, retrieve=None, consume=None, extract=None, refine=None, slug='recall'),\n",
       " 'readwise': Tool(name='Readwise', organization_system=[<OrganizationSystem.TAGS: 'tags'>], phase_quality=PhaseQualityData(collect=<PhaseQuality.NA: 'na'>, retrieve=<PhaseQuality.OK: 'ok'>, consume=<PhaseQuality.NA: 'na'>, extract=<PhaseQuality.GREAT: 'great'>, refine=<PhaseQuality.OK: 'ok'>), collect=None, retrieve=None, consume=None, extract=None, refine=None, slug='readwise'),\n",
       " 'obsidian': Tool(name='Obsidian', organization_system=[<OrganizationSystem.JOHNNY_DECIMAL: 'johnny_decimal'>, <OrganizationSystem.LINKS: 'links'>], phase_quality=PhaseQualityData(collect=<PhaseQuality.NA: 'na'>, retrieve=<PhaseQuality.OK: 'ok'>, consume=<PhaseQuality.OK: 'ok'>, extract=<PhaseQuality.GREAT: 'great'>, refine=<PhaseQuality.GREAT: 'great'>), collect=None, retrieve=None, consume=None, extract=None, refine=None, slug='obsidian'),\n",
       " 'librarything': Tool(name='LibraryThing', organization_system=[<OrganizationSystem.TAGS: 'tags'>], phase_quality=PhaseQualityData(collect=<PhaseQuality.OK: 'ok'>, retrieve=<PhaseQuality.BAD: 'bad'>, consume=<PhaseQuality.NA: 'na'>, extract=<PhaseQuality.NA: 'na'>, refine=<PhaseQuality.NA: 'na'>), collect=None, retrieve=None, consume=None, extract=None, refine=None, slug='librarything'),\n",
       " 'snipd': Tool(name='Snipd', organization_system=[<OrganizationSystem.FOLDERS: 'folders'>], phase_quality=PhaseQualityData(collect=<PhaseQuality.OK: 'ok'>, retrieve=<PhaseQuality.BAD: 'bad'>, consume=<PhaseQuality.GREAT: 'great'>, extract=<PhaseQuality.NA: 'na'>, refine=<PhaseQuality.NA: 'na'>), collect=None, retrieve=None, consume=None, extract=None, refine=None, slug='snipd'),\n",
       " 'neoreader': Tool(name='NeoReader', organization_system=[<OrganizationSystem.FOLDERS: 'folders'>], phase_quality=PhaseQualityData(collect=<PhaseQuality.OK: 'ok'>, retrieve=<PhaseQuality.BAD: 'bad'>, consume=<PhaseQuality.GREAT: 'great'>, extract=<PhaseQuality.NA: 'na'>, refine=<PhaseQuality.NA: 'na'>), collect=None, retrieve=None, consume=None, extract=None, refine=None, slug='neoreader'),\n",
       " 'youtube': Tool(name='YouTube', organization_system=[<OrganizationSystem.FOLDERS: 'folders'>], phase_quality=PhaseQualityData(collect=<PhaseQuality.OK: 'ok'>, retrieve=<PhaseQuality.BAD: 'bad'>, consume=<PhaseQuality.OK: 'ok'>, extract=<PhaseQuality.NA: 'na'>, refine=<PhaseQuality.NA: 'na'>), collect=None, retrieve=None, consume=None, extract=None, refine=None, slug='youtube'),\n",
       " 'sample': Tool(name='Sample', organization_system=[<OrganizationSystem.TAGS: 'tags'>], phase_quality=PhaseQualityData(collect=<PhaseQuality.GREAT: 'great'>, retrieve=<PhaseQuality.BAD: 'bad'>, consume=<PhaseQuality.OK: 'ok'>, extract=<PhaseQuality.NA: 'na'>, refine=<PhaseQuality.GREAT: 'great'>), collect=None, retrieve=None, consume=None, extract=None, refine=None, slug='sample')}"
      ]
     },
     "execution_count": 6,
     "metadata": {},
     "output_type": "execute_result"
    }
   ],
   "source": [
    "td"
   ]
  }
 ],
 "metadata": {
  "kernelspec": {
   "display_name": ".venv",
   "language": "python",
   "name": "python3"
  },
  "language_info": {
   "codemirror_mode": {
    "name": "ipython",
    "version": 3
   },
   "file_extension": ".py",
   "mimetype": "text/x-python",
   "name": "python",
   "nbconvert_exporter": "python",
   "pygments_lexer": "ipython3",
   "version": "3.11.12"
  }
 },
 "nbformat": 4,
 "nbformat_minor": 5
}
