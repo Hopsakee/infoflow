{
 "cells": [
  {
   "cell_type": "markdown",
   "metadata": {},
   "source": [
    "# Create Instances\n",
    "\n",
    "> This module creates the different instances. In this module you can change the description of Tools, the flow of InformationItems. Add Tools and add InformationItems."
   ]
  },
  {
   "cell_type": "code",
   "execution_count": null,
   "metadata": {},
   "outputs": [],
   "source": [
    "# TODO: Maybe we don't need this file. We can use the app to create instances and place those in the database."
   ]
  },
  {
   "cell_type": "code",
   "execution_count": null,
   "metadata": {},
   "outputs": [],
   "source": [
    "#| default_exp creinst"
   ]
  },
  {
   "cell_type": "code",
   "execution_count": null,
   "metadata": {},
   "outputs": [],
   "source": [
    "#| hide\n",
    "from nbdev.showdoc import *"
   ]
  },
  {
   "cell_type": "code",
   "execution_count": null,
   "metadata": {},
   "outputs": [],
   "source": [
    "#| export\n",
    "from fasthtml.common import *\n",
    "from infoflow.classdb import *"
   ]
  },
  {
   "cell_type": "markdown",
   "metadata": {},
   "source": [
    "## Tools"
   ]
  },
  {
   "cell_type": "markdown",
   "metadata": {},
   "source": [
    "The function `tools_from_code` can be used to create instances for every `Tool` available. The instances are hardcoded in the function. This function can be used to start a fresh database.\n",
    "\n",
    "The function `tools_from_db` can be used to create instances for every `Tool` available in the database.\n",
    "\n",
    "In both cases the function does not return anything. The available instances are tracked in the `Tool` class and can be retrieved as a list using the `get_instances` method on the `Tool` class.\n",
    "\n",
    "We must start with creating instances for each `Tool` that we can use. This must be done before we can create instances for the `InformationItem` and `Improvement` classes, because both have fields that are validated against the field `name` in the `Tool` class."
   ]
  },
  {
   "cell_type": "code",
   "execution_count": null,
   "metadata": {},
   "outputs": [],
   "source": [
    "#| export\n",
    "def tools_from_code():\n",
    "    \"\"\"Create all Tool instances as defined in the code.\"\"\"\n",
    "    reader = Tool(\n",
    "        name=\"Reader\",\n",
    "        organization_system=[OrganizationSystem.TAGS],\n",
    "        phase_quality=PhaseQualityData(\n",
    "            collect=PhaseQuality.GREAT,\n",
    "            retrieve=PhaseQuality.BAD,\n",
    "            consume=PhaseQuality.GREAT,\n",
    "        )\n",
    "    )\n",
    "\n",
    "    recall = Tool(\n",
    "        name=\"Recall\",\n",
    "        organization_system=[OrganizationSystem.LINKS],\n",
    "        phase_quality=PhaseQualityData(\n",
    "            collect=PhaseQuality.GREAT,\n",
    "            retrieve=PhaseQuality.GREAT,\n",
    "            consume=PhaseQuality.NA,\n",
    "            extract=PhaseQuality.NA,\n",
    "            refine=PhaseQuality.GREAT\n",
    "        )\n",
    "    )\n",
    "\n",
    "    readwise = Tool(\n",
    "        name=\"Readwise\",\n",
    "        organization_system=[OrganizationSystem.TAGS],\n",
    "        phase_quality=PhaseQualityData(\n",
    "            collect=PhaseQuality.NA,\n",
    "            retrieve=PhaseQuality.OK,\n",
    "            consume=PhaseQuality.NA,\n",
    "            extract=PhaseQuality.GREAT,\n",
    "            refine=PhaseQuality.OK\n",
    "        )\n",
    "    )\n",
    "\n",
    "    obsidian = Tool(\n",
    "        name=\"Obsidian\",\n",
    "        organization_system=[OrganizationSystem.JOHNNY_DECIMAL, OrganizationSystem.LINKS],\n",
    "        phase_quality=PhaseQualityData(\n",
    "            collect=PhaseQuality.NA,\n",
    "            retrieve=PhaseQuality.OK,\n",
    "            consume=PhaseQuality.OK,\n",
    "            extract=PhaseQuality.GREAT,\n",
    "            refine=PhaseQuality.GREAT\n",
    "        )\n",
    "    )\n",
    "\n",
    "    librarything = Tool(\n",
    "        name=\"LibraryThing\",\n",
    "        organization_system=[OrganizationSystem.TAGS],\n",
    "        phase_quality=PhaseQualityData(\n",
    "            collect=PhaseQuality.OK,\n",
    "            retrieve=PhaseQuality.BAD,\n",
    "            consume=PhaseQuality.NA,\n",
    "            extract=PhaseQuality.NA,\n",
    "            refine=PhaseQuality.NA\n",
    "        )\n",
    "    )\n",
    "\n",
    "    snipd = Tool(\n",
    "        name=\"Snipd\",\n",
    "        organization_system=[OrganizationSystem.FOLDERS],\n",
    "        phase_quality=PhaseQualityData(\n",
    "            collect=PhaseQuality.OK,\n",
    "            retrieve=PhaseQuality.BAD,\n",
    "            consume=PhaseQuality.GREAT,\n",
    "            extract=PhaseQuality.NA,\n",
    "            refine=PhaseQuality.NA\n",
    "        )\n",
    "    )\n",
    "\n",
    "    neoreader = Tool(\n",
    "        name=\"NeoReader\",\n",
    "        organization_system=[OrganizationSystem.FOLDERS],\n",
    "        phase_quality=PhaseQualityData(\n",
    "            collect=PhaseQuality.OK,\n",
    "            retrieve=PhaseQuality.BAD,\n",
    "            consume=PhaseQuality.GREAT,\n",
    "            extract=PhaseQuality.NA,\n",
    "            refine=PhaseQuality.NA\n",
    "        )\n",
    "    )\n",
    "\n",
    "    youtube = Tool(\n",
    "        name=\"YouTube\",\n",
    "        organization_system=[OrganizationSystem.FOLDERS],\n",
    "        phase_quality=PhaseQualityData(\n",
    "            collect=PhaseQuality.OK,\n",
    "            retrieve=PhaseQuality.BAD,\n",
    "            consume=PhaseQuality.OK,\n",
    "            extract=PhaseQuality.NA,\n",
    "            refine=PhaseQuality.NA\n",
    "        )\n",
    "    )\n"
   ]
  },
  {
   "cell_type": "markdown",
   "metadata": {},
   "source": [
    "The next stap is to define instances for each `InformationItem` we have."
   ]
  },
  {
   "cell_type": "code",
   "execution_count": null,
   "metadata": {},
   "outputs": [
    {
     "data": {
      "text/plain": [
       "{'reader': Tool(name='Reader', organization_system=[<OrganizationSystem.TAGS: 'tags'>], phase_quality=PhaseQualityData(collect=<PhaseQuality.GREAT: 'great'>, retrieve=<PhaseQuality.BAD: 'bad'>, consume=<PhaseQuality.GREAT: 'great'>, extract=<PhaseQuality.NA: 'na'>, refine=<PhaseQuality.NA: 'na'>), collect=None, retrieve=None, consume=None, extract=None, refine=None, slug='reader'),\n",
       " 'recall': Tool(name='Recall', organization_system=[<OrganizationSystem.LINKS: 'links'>], phase_quality=PhaseQualityData(collect=<PhaseQuality.GREAT: 'great'>, retrieve=<PhaseQuality.GREAT: 'great'>, consume=<PhaseQuality.NA: 'na'>, extract=<PhaseQuality.NA: 'na'>, refine=<PhaseQuality.GREAT: 'great'>), collect=None, retrieve=None, consume=None, extract=None, refine=None, slug='recall'),\n",
       " 'readwise': Tool(name='Readwise', organization_system=[<OrganizationSystem.TAGS: 'tags'>], phase_quality=PhaseQualityData(collect=<PhaseQuality.NA: 'na'>, retrieve=<PhaseQuality.OK: 'ok'>, consume=<PhaseQuality.NA: 'na'>, extract=<PhaseQuality.GREAT: 'great'>, refine=<PhaseQuality.OK: 'ok'>), collect=None, retrieve=None, consume=None, extract=None, refine=None, slug='readwise'),\n",
       " 'obsidian': Tool(name='Obsidian', organization_system=[<OrganizationSystem.JOHNNY_DECIMAL: 'johnny_decimal'>, <OrganizationSystem.LINKS: 'links'>], phase_quality=PhaseQualityData(collect=<PhaseQuality.NA: 'na'>, retrieve=<PhaseQuality.OK: 'ok'>, consume=<PhaseQuality.OK: 'ok'>, extract=<PhaseQuality.GREAT: 'great'>, refine=<PhaseQuality.GREAT: 'great'>), collect=None, retrieve=None, consume=None, extract=None, refine=None, slug='obsidian'),\n",
       " 'librarything': Tool(name='LibraryThing', organization_system=[<OrganizationSystem.TAGS: 'tags'>], phase_quality=PhaseQualityData(collect=<PhaseQuality.OK: 'ok'>, retrieve=<PhaseQuality.BAD: 'bad'>, consume=<PhaseQuality.NA: 'na'>, extract=<PhaseQuality.NA: 'na'>, refine=<PhaseQuality.NA: 'na'>), collect=None, retrieve=None, consume=None, extract=None, refine=None, slug='librarything'),\n",
       " 'snipd': Tool(name='Snipd', organization_system=[<OrganizationSystem.FOLDERS: 'folders'>], phase_quality=PhaseQualityData(collect=<PhaseQuality.OK: 'ok'>, retrieve=<PhaseQuality.BAD: 'bad'>, consume=<PhaseQuality.GREAT: 'great'>, extract=<PhaseQuality.NA: 'na'>, refine=<PhaseQuality.NA: 'na'>), collect=None, retrieve=None, consume=None, extract=None, refine=None, slug='snipd'),\n",
       " 'neoreader': Tool(name='NeoReader', organization_system=[<OrganizationSystem.FOLDERS: 'folders'>], phase_quality=PhaseQualityData(collect=<PhaseQuality.OK: 'ok'>, retrieve=<PhaseQuality.BAD: 'bad'>, consume=<PhaseQuality.GREAT: 'great'>, extract=<PhaseQuality.NA: 'na'>, refine=<PhaseQuality.NA: 'na'>), collect=None, retrieve=None, consume=None, extract=None, refine=None, slug='neoreader'),\n",
       " 'youtube': Tool(name='YouTube', organization_system=[<OrganizationSystem.FOLDERS: 'folders'>], phase_quality=PhaseQualityData(collect=<PhaseQuality.OK: 'ok'>, retrieve=<PhaseQuality.BAD: 'bad'>, consume=<PhaseQuality.OK: 'ok'>, extract=<PhaseQuality.NA: 'na'>, refine=<PhaseQuality.NA: 'na'>), collect=None, retrieve=None, consume=None, extract=None, refine=None, slug='youtube')}"
      ]
     },
     "execution_count": null,
     "metadata": {},
     "output_type": "execute_result"
    }
   ],
   "source": [
    "tools_from_code()\n",
    "Tool.get_instances()"
   ]
  },
  {
   "cell_type": "markdown",
   "metadata": {},
   "source": [
    "## InformationItems"
   ]
  },
  {
   "cell_type": "markdown",
   "metadata": {},
   "source": [
    "Just as with the `Tools` we have two functions to create instances for every `InformationItem`. We can use the function `informationitems_from_code` to create instances for every `InformationItem` available from the definitions hardcoded in the function. This function can be used to start a fresh database. We can use the function `informationitems_from_db` to create instances for every `InformationItem` available in the database.\n",
    "\n",
    "These functions don't return anything. The available instances are tracked in the `InformationItem` class and can be retrieved as a list using the `get_instances` method on the `InformationItem` class."
   ]
  },
  {
   "cell_type": "code",
   "execution_count": null,
   "metadata": {},
   "outputs": [],
   "source": [
    "#| export\n",
    "def informationitems_from_code():\n",
    "    \"\"\"Create all InformationItem instances as defined in the code.\"\"\"\n",
    "    web_article_item = InformationItem(\n",
    "        name=\"Web Article\",\n",
    "        info_type=InformationType.WEB_ARTICLE,\n",
    "        method=PhaseMethodData(\n",
    "            collect=Method.MANUAL\n",
    "        ),\n",
    "        toolflow=PhaseToolflowData(\n",
    "            collect=(\"Reader\", \"Recall\"),\n",
    "            retrieve=\"Recall\",\n",
    "            consume=\"Reader\"\n",
    "        )\n",
    "    )\n",
    "\n",
    "    annotation_item = InformationItem(\n",
    "        name=\"Annotation\",\n",
    "        info_type=InformationType.ANNOTATION,\n",
    "        method=PhaseMethodData(\n",
    "            collect=Method.AUTOMATIC\n",
    "        ),\n",
    "        toolflow=PhaseToolflowData(\n",
    "            extract=\"Readwise\",\n",
    "            refine=(\"Recall\", \"Obsidian\")\n",
    "        )\n",
    "    )\n",
    "\n",
    "    note_item = InformationItem(\n",
    "        name=\"Note\",\n",
    "        info_type=InformationType.NOTE,\n",
    "        method=PhaseMethodData(\n",
    "            collect=Method.MANUAL\n",
    "        ),\n",
    "        toolflow=PhaseToolflowData(\n",
    "            retrieve=\"Obsidian\",\n",
    "            consume=\"Obsidian\",\n",
    "            extract=\"Obsidian\",\n",
    "            refine=\"Obsidian\"\n",
    "        )\n",
    "    )\n",
    "\n",
    "    book_item = InformationItem(\n",
    "        name=\"Book\",\n",
    "        info_type=InformationType.BOOK,\n",
    "        method=PhaseMethodData(\n",
    "            collect=Method.MANUAL\n",
    "        ),\n",
    "        toolflow=PhaseToolflowData(\n",
    "            collect=\"LibraryThing\",\n",
    "            retrieve=\"LibraryThing\",\n",
    "            consume=\"NeoReader\",\n",
    "            extract=\"Readwise\",\n",
    "            refine=\"Obsidian\"\n",
    "        )\n",
    "    )\n",
    "\n",
    "    podcast_item = InformationItem(\n",
    "        name=\"Podcast\",\n",
    "        info_type=InformationType.PODCAST,\n",
    "        method=PhaseMethodData(\n",
    "            collect=Method.AUTOMATIC\n",
    "        ),\n",
    "        toolflow=PhaseToolflowData(\n",
    "            collect=\"Snipd\",\n",
    "            retrieve=\"Snipd\",\n",
    "            consume=\"Snipd\",\n",
    "            extract=\"Readwise\",\n",
    "            refine=\"Obsidian\"\n",
    "        )\n",
    "    )\n",
    "\n",
    "    research_paper_item = InformationItem(\n",
    "        name=\"Research Paper\",\n",
    "        info_type=InformationType.RESEARCH_PAPER,\n",
    "        method=PhaseMethodData(\n",
    "            collect=Method.MANUAL\n",
    "        ),\n",
    "        toolflow=PhaseToolflowData(\n",
    "            collect=(\"Recall\", \"NeoReader\"),\n",
    "            retrieve=(\"Recall\", \"NeoReader\"),\n",
    "            consume=\"NeoReader\",\n",
    "            extract=\"Readwise\",\n",
    "            refine=(\"Obsidian\", \"Recall\")\n",
    "        )\n",
    "    )\n",
    "\n",
    "    document_item = InformationItem(\n",
    "        name=\"Document\",\n",
    "        info_type=InformationType.DOCUMENT,\n",
    "        method=PhaseMethodData(\n",
    "            collect=Method.MANUAL\n",
    "        ),\n",
    "        toolflow=PhaseToolflowData(\n",
    "            collect=\"NeoReader\",\n",
    "            retrieve=\"NeoReader\",\n",
    "            consume=\"NeoReader\",\n",
    "            extract=\"Readwise\",\n",
    "            refine=(\"Obsidian\", \"Recall\")\n",
    "        )\n",
    "    )\n",
    "\n",
    "    youtube_video_item = InformationItem(\n",
    "        name=\"YouTube Video\",\n",
    "        info_type=InformationType.YOUTUBE_VIDEO,\n",
    "        method=PhaseMethodData(\n",
    "            collect=Method.AUTOMATIC\n",
    "        ),\n",
    "        toolflow=PhaseToolflowData(\n",
    "            collect=\"YouTube\",\n",
    "            retrieve=\"YouTube\",\n",
    "            consume=\"YouTube\",\n",
    "            extract=\"Obsidian\",\n",
    "            refine=\"Obsidian\"\n",
    "        )\n",
    "    )\n",
    "\n",
    "    web_article_item = InformationItem(\n",
    "            name=\"Web Article\",\n",
    "            info_type=InformationType.WEB_ARTICLE,\n",
    "            method=PhaseMethodData(\n",
    "                collect=Method.MANUAL\n",
    "            ),\n",
    "            toolflow=PhaseToolflowData(\n",
    "                collect=(\"Reader\", \"Recall\"),\n",
    "                retrieve=\"Recall\",\n",
    "                consume=\"Reader\"\n",
    "            )\n",
    "        )"
   ]
  },
  {
   "cell_type": "markdown",
   "metadata": {},
   "source": [
    "Check all the available tools and information items."
   ]
  },
  {
   "cell_type": "code",
   "execution_count": null,
   "metadata": {},
   "outputs": [],
   "source": [
    "informationitems_from_code()"
   ]
  },
  {
   "cell_type": "code",
   "execution_count": null,
   "metadata": {},
   "outputs": [
    {
     "data": {
      "text/plain": [
       "{'web_article': InformationItem(name='Web Article', info_type=<InformationType.WEB_ARTICLE: 'web_article'>, method=PhaseMethodData(collect=<Method.MANUAL: 'manual'>, retrieve=None, consume=None, extract=None, refine=None), toolflow=PhaseToolflowData(collect=('reader', 'recall'), retrieve='recall', consume='reader', extract=None, refine=None), slug='web_article'),\n",
       " 'youtube_video': InformationItem(name='YouTube Video', info_type=<InformationType.YOUTUBE_VIDEO: 'youtube_video'>, method=PhaseMethodData(collect=<Method.AUTOMATIC: 'automatic'>, retrieve=None, consume=None, extract=None, refine=None), toolflow=PhaseToolflowData(collect='youtube', retrieve='youtube', consume='youtube', extract='obsidian', refine='obsidian'), slug='youtube_video'),\n",
       " 'annotation': InformationItem(name='Annotation', info_type=<InformationType.ANNOTATION: 'annotations&highlights'>, method=PhaseMethodData(collect=<Method.AUTOMATIC: 'automatic'>, retrieve=None, consume=None, extract=None, refine=None), toolflow=PhaseToolflowData(collect=None, retrieve=None, consume=None, extract='readwise', refine=('recall', 'obsidian')), slug='annotation'),\n",
       " 'note': InformationItem(name='Note', info_type=<InformationType.NOTE: 'note'>, method=PhaseMethodData(collect=<Method.MANUAL: 'manual'>, retrieve=None, consume=None, extract=None, refine=None), toolflow=PhaseToolflowData(collect=None, retrieve='obsidian', consume='obsidian', extract='obsidian', refine='obsidian'), slug='note'),\n",
       " 'book': InformationItem(name='Book', info_type=<InformationType.BOOK: 'book'>, method=PhaseMethodData(collect=<Method.MANUAL: 'manual'>, retrieve=None, consume=None, extract=None, refine=None), toolflow=PhaseToolflowData(collect='librarything', retrieve='librarything', consume='neoreader', extract='readwise', refine='obsidian'), slug='book'),\n",
       " 'podcast': InformationItem(name='Podcast', info_type=<InformationType.PODCAST: 'podcast'>, method=PhaseMethodData(collect=<Method.AUTOMATIC: 'automatic'>, retrieve=None, consume=None, extract=None, refine=None), toolflow=PhaseToolflowData(collect='snipd', retrieve='snipd', consume='snipd', extract='readwise', refine='obsidian'), slug='podcast'),\n",
       " 'research_paper': InformationItem(name='Research Paper', info_type=<InformationType.RESEARCH_PAPER: 'research_paper'>, method=PhaseMethodData(collect=<Method.MANUAL: 'manual'>, retrieve=None, consume=None, extract=None, refine=None), toolflow=PhaseToolflowData(collect=('recall', 'neoreader'), retrieve=('recall', 'neoreader'), consume='neoreader', extract='readwise', refine=('obsidian', 'recall')), slug='research_paper'),\n",
       " 'document': InformationItem(name='Document', info_type=<InformationType.DOCUMENT: 'document'>, method=PhaseMethodData(collect=<Method.MANUAL: 'manual'>, retrieve=None, consume=None, extract=None, refine=None), toolflow=PhaseToolflowData(collect='neoreader', retrieve='neoreader', consume='neoreader', extract='readwise', refine=('obsidian', 'recall')), slug='document')}"
      ]
     },
     "execution_count": null,
     "metadata": {},
     "output_type": "execute_result"
    }
   ],
   "source": [
    "InformationItem.get_instances()"
   ]
  },
  {
   "cell_type": "markdown",
   "metadata": {},
   "source": [
    "# Add instances to SQLite database"
   ]
  },
  {
   "cell_type": "markdown",
   "metadata": {},
   "source": [
    "The function below can be used to create a fresh database filled with all the instances created in this notebook."
   ]
  },
  {
   "cell_type": "code",
   "execution_count": null,
   "metadata": {},
   "outputs": [],
   "source": [
    "#| export\n",
    "def db_from_instanes(\n",
    "    db_loc: Path = \"../data/infoflow.db\", # Location of the database, usually \"../data/infoflow.db\"\n",
    "    toolclass: Tool = Tool, # De Tool dataclass, containing all the tool intances\n",
    "    informationitemclass: InformationItem = InformationItem, # The InformationItem dataclass, containing all the information item instances\n",
    "    ) -> None:\n",
    "    \"\"\"Create a fresh database filled with all the instances created in this notebook.\"\"\"\n",
    "    db = create_db(db_loc)\n",
    "    create_tables_from_pydantic(db)\n",
    "    tools_from_code()\n",
    "    informationitems_from_code()\n",
    "    for t in toolclass.get_instances().values(): db.t.tools.insert(t.flatten_for_db())\n",
    "    for i in informationitemclass.get_instances().values(): db.t.information_items.insert(i.flatten_for_db())\n",
    "    db.close()"
   ]
  },
  {
   "cell_type": "markdown",
   "metadata": {},
   "source": [
    "::: {.callout-warning}\n",
    "Only uncomment next line if you want to create a fresh database filled with all the instances created in this notebook. This will overwrite any existing database.\n",
    ":::"
   ]
  },
  {
   "cell_type": "code",
   "execution_count": null,
   "metadata": {},
   "outputs": [],
   "source": [
    "#db_from_instanes()"
   ]
  },
  {
   "cell_type": "code",
   "execution_count": null,
   "metadata": {},
   "outputs": [],
   "source": [
    "#| hide\n",
    "import nbdev; nbdev.nbdev_export()"
   ]
  }
 ],
 "metadata": {
  "kernelspec": {
   "display_name": "python3",
   "language": "python",
   "name": "python3"
  }
 },
 "nbformat": 4,
 "nbformat_minor": 4
}
