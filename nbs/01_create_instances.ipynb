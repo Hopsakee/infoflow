{
 "cells": [
  {
   "cell_type": "markdown",
   "metadata": {},
   "source": [
    "# Create Instances\n",
    "\n",
    "> This module creates the different instances. In this module you can change the description of Tools, the flow of InformationItems. Add Tools and add InformationItems."
   ]
  },
  {
   "cell_type": "code",
   "execution_count": null,
   "metadata": {},
   "outputs": [],
   "source": [
    "# TODO: Maybe we don't need this file. We can use the app to create instances and place those in the database."
   ]
  },
  {
   "cell_type": "code",
   "execution_count": null,
   "metadata": {},
   "outputs": [],
   "source": [
    "#| default_exp creinst"
   ]
  },
  {
   "cell_type": "code",
   "execution_count": null,
   "metadata": {},
   "outputs": [],
   "source": [
    "#| hide\n",
    "from nbdev.showdoc import *"
   ]
  },
  {
   "cell_type": "code",
   "execution_count": null,
   "metadata": {},
   "outputs": [],
   "source": [
    "#| export\n",
    "from infoflow.classdb import *"
   ]
  },
  {
   "cell_type": "markdown",
   "metadata": {},
   "source": [
    "## Tools"
   ]
  },
  {
   "cell_type": "markdown",
   "metadata": {},
   "source": [
    "The function `tools_from_code` can be used to create instances for every `Tool` available. The instances are hardcoded in the function. This function can be used to start a fresh database.\n",
    "\n",
    "The function `tools_from_db` can be used to create instances for every `Tool` available in the database.\n",
    "\n",
    "In both cases the function does not return anything. The available instances are tracked in the `Tool` class and can be retrieved as a list using the `get_instances` method on the `Tool` class.\n",
    "\n",
    "We must start with creating instances for each `Tool` that we can use. This must be done before we can create instances for the `InformationItem` and `Improvement` classes, because both have fields that are validated against the field `name` in the `Tool` class."
   ]
  },
  {
   "cell_type": "code",
   "execution_count": null,
   "metadata": {},
   "outputs": [],
   "source": [
    "#| export\n",
    "def tools_from_code():\n",
    "    \"\"\"Create all Tool instances as defined in the code.\"\"\"\n",
    "    reader = Tool(\n",
    "        name=\"Reader\",\n",
    "        organization_system=[OrganizationSystem.TAGS],\n",
    "        phase_quality=[PhaseQuality.GREAT, PhaseQuality.BAD, PhaseQuality.GREAT, PhaseQuality.NA, PhaseQuality.NA]\n",
    "    )\n",
    "\n",
    "    recall = Tool(\n",
    "        name=\"Recall\",\n",
    "        organization_system=[OrganizationSystem.LINKS],\n",
    "        phase_quality=[PhaseQuality.GREAT, PhaseQuality.GREAT, PhaseQuality.NA, PhaseQuality.NA, PhaseQuality.GREAT]\n",
    "    )\n",
    "\n",
    "    readwise = Tool(\n",
    "        name=\"Readwise\",\n",
    "        organization_system=[OrganizationSystem.TAGS],\n",
    "        phase_quality=[PhaseQuality.NA, PhaseQuality.OK, PhaseQuality.NA, PhaseQuality.GREAT, PhaseQuality.OK]\n",
    "    )\n",
    "\n",
    "    obsidian = Tool(\n",
    "        name=\"Obsidian\",\n",
    "        organization_system=[OrganizationSystem.JOHNNY_DECIMAL, OrganizationSystem.LINKS],\n",
    "        phase_quality=[PhaseQuality.NA, PhaseQuality.OK, PhaseQuality.OK, PhaseQuality.GREAT, PhaseQuality.GREAT]\n",
    "    )\n",
    "    librarything = Tool(\n",
    "        name=\"LibraryThing\",\n",
    "        organization_system=[OrganizationSystem.TAGS],\n",
    "        phase_quality=[PhaseQuality.OK, PhaseQuality.BAD, PhaseQuality.NA, PhaseQuality.NA, PhaseQuality.NA]\n",
    "    )\n",
    "\n",
    "    snipd = Tool(\n",
    "        name=\"Snipd\",\n",
    "        organization_system=[OrganizationSystem.FOLDERS],\n",
    "        phase_quality=[PhaseQuality.OK, PhaseQuality.BAD, PhaseQuality.GREAT, PhaseQuality.NA, PhaseQuality.NA]\n",
    "    )\n",
    "\n",
    "    neoreader = Tool(\n",
    "        name=\"NeoReader\",\n",
    "        organization_system=[OrganizationSystem.FOLDERS],\n",
    "        phase_quality=[PhaseQuality.OK, PhaseQuality.BAD, PhaseQuality.GREAT, PhaseQuality.NA, PhaseQuality.NA]\n",
    "    )\n",
    "\n",
    "    youtube = Tool(\n",
    "        name=\"YouTube\",\n",
    "        organization_system=[OrganizationSystem.FOLDERS],\n",
    "        phase_quality=[PhaseQuality.OK, PhaseQuality.BAD, PhaseQuality.OK, PhaseQuality.NA, PhaseQuality.NA]\n",
    "    )\n"
   ]
  },
  {
   "cell_type": "markdown",
   "metadata": {},
   "source": [
    "The next stap is to define instances for each `InformationItem` we have."
   ]
  },
  {
   "cell_type": "code",
   "execution_count": null,
   "metadata": {},
   "outputs": [
    {
     "ename": "ValidationError",
     "evalue": "1 validation error for Tool\nphase_quality\n  Input should be a valid dictionary or instance of PhaseQualityData [type=model_type, input_value=[<PhaseQuality.GREAT: 'gr...<PhaseQuality.NA: 'na'>], input_type=list]\n    For further information visit https://errors.pydantic.dev/2.11/v/model_type",
     "output_type": "error",
     "traceback": [
      "\u001b[31m---------------------------------------------------------------------------\u001b[39m",
      "\u001b[31mValidationError\u001b[39m                           Traceback (most recent call last)",
      "\u001b[36mCell\u001b[39m\u001b[36m \u001b[39m\u001b[32mIn[6]\u001b[39m\u001b[32m, line 1\u001b[39m\n\u001b[32m----> \u001b[39m\u001b[32m1\u001b[39m \u001b[43mtools_from_code\u001b[49m\u001b[43m(\u001b[49m\u001b[43m)\u001b[49m\n\u001b[32m      2\u001b[39m Tool.get_instances()\n",
      "\u001b[36mCell\u001b[39m\u001b[36m \u001b[39m\u001b[32mIn[5]\u001b[39m\u001b[32m, line 4\u001b[39m, in \u001b[36mtools_from_code\u001b[39m\u001b[34m()\u001b[39m\n\u001b[32m      2\u001b[39m \u001b[38;5;28;01mdef\u001b[39;00m\u001b[38;5;250m \u001b[39m\u001b[34mtools_from_code\u001b[39m():\n\u001b[32m      3\u001b[39m \u001b[38;5;250m    \u001b[39m\u001b[33;03m\"\"\"Create all Tool instances as defined in the code.\"\"\"\u001b[39;00m\n\u001b[32m----> \u001b[39m\u001b[32m4\u001b[39m     reader = \u001b[43mTool\u001b[49m\u001b[43m(\u001b[49m\n\u001b[32m      5\u001b[39m \u001b[43m        \u001b[49m\u001b[43mname\u001b[49m\u001b[43m=\u001b[49m\u001b[33;43m\"\u001b[39;49m\u001b[33;43mReader\u001b[39;49m\u001b[33;43m\"\u001b[39;49m\u001b[43m,\u001b[49m\n\u001b[32m      6\u001b[39m \u001b[43m        \u001b[49m\u001b[43morganization_system\u001b[49m\u001b[43m=\u001b[49m\u001b[43m[\u001b[49m\u001b[43mOrganizationSystem\u001b[49m\u001b[43m.\u001b[49m\u001b[43mTAGS\u001b[49m\u001b[43m]\u001b[49m\u001b[43m,\u001b[49m\n\u001b[32m      7\u001b[39m \u001b[43m        \u001b[49m\u001b[43mphase_quality\u001b[49m\u001b[43m=\u001b[49m\u001b[43m[\u001b[49m\u001b[43mPhaseQuality\u001b[49m\u001b[43m.\u001b[49m\u001b[43mGREAT\u001b[49m\u001b[43m,\u001b[49m\u001b[43m \u001b[49m\u001b[43mPhaseQuality\u001b[49m\u001b[43m.\u001b[49m\u001b[43mBAD\u001b[49m\u001b[43m,\u001b[49m\u001b[43m \u001b[49m\u001b[43mPhaseQuality\u001b[49m\u001b[43m.\u001b[49m\u001b[43mGREAT\u001b[49m\u001b[43m,\u001b[49m\u001b[43m \u001b[49m\u001b[43mPhaseQuality\u001b[49m\u001b[43m.\u001b[49m\u001b[43mNA\u001b[49m\u001b[43m,\u001b[49m\u001b[43m \u001b[49m\u001b[43mPhaseQuality\u001b[49m\u001b[43m.\u001b[49m\u001b[43mNA\u001b[49m\u001b[43m]\u001b[49m\n\u001b[32m      8\u001b[39m \u001b[43m    \u001b[49m\u001b[43m)\u001b[49m\n\u001b[32m     10\u001b[39m     recall = Tool(\n\u001b[32m     11\u001b[39m         name=\u001b[33m\"\u001b[39m\u001b[33mRecall\u001b[39m\u001b[33m\"\u001b[39m,\n\u001b[32m     12\u001b[39m         organization_system=[OrganizationSystem.LINKS],\n\u001b[32m     13\u001b[39m         phase_quality=[PhaseQuality.GREAT, PhaseQuality.GREAT, PhaseQuality.NA, PhaseQuality.NA, PhaseQuality.GREAT]\n\u001b[32m     14\u001b[39m     )\n\u001b[32m     16\u001b[39m     readwise = Tool(\n\u001b[32m     17\u001b[39m         name=\u001b[33m\"\u001b[39m\u001b[33mReadwise\u001b[39m\u001b[33m\"\u001b[39m,\n\u001b[32m     18\u001b[39m         organization_system=[OrganizationSystem.TAGS],\n\u001b[32m     19\u001b[39m         phase_quality=[PhaseQuality.NA, PhaseQuality.OK, PhaseQuality.NA, PhaseQuality.GREAT, PhaseQuality.OK]\n\u001b[32m     20\u001b[39m     )\n",
      "\u001b[36mFile \u001b[39m\u001b[32m~/code/infoflow/infoflow/classdb.py:95\u001b[39m, in \u001b[36mTool.__init__\u001b[39m\u001b[34m(self, **data)\u001b[39m\n\u001b[32m     94\u001b[39m \u001b[38;5;28;01mdef\u001b[39;00m\u001b[38;5;250m \u001b[39m\u001b[34m__init__\u001b[39m(\u001b[38;5;28mself\u001b[39m, **data):\n\u001b[32m---> \u001b[39m\u001b[32m95\u001b[39m     \u001b[38;5;28;43msuper\u001b[39;49m\u001b[43m(\u001b[49m\u001b[43m)\u001b[49m\u001b[43m.\u001b[49m\u001b[34;43m__init__\u001b[39;49m\u001b[43m(\u001b[49m\u001b[43m*\u001b[49m\u001b[43m*\u001b[49m\u001b[43mdata\u001b[49m\u001b[43m)\u001b[49m\n\u001b[32m     96\u001b[39m     \u001b[38;5;28mtype\u001b[39m(\u001b[38;5;28mself\u001b[39m)._instances[\u001b[38;5;28mself\u001b[39m.slug] = \u001b[38;5;28mself\u001b[39m\n",
      "\u001b[36mFile \u001b[39m\u001b[32m~/code/infoflow/.venv/lib/python3.11/site-packages/pydantic/main.py:253\u001b[39m, in \u001b[36mBaseModel.__init__\u001b[39m\u001b[34m(self, **data)\u001b[39m\n\u001b[32m    251\u001b[39m \u001b[38;5;66;03m# `__tracebackhide__` tells pytest and some other tools to omit this function from tracebacks\u001b[39;00m\n\u001b[32m    252\u001b[39m __tracebackhide__ = \u001b[38;5;28;01mTrue\u001b[39;00m\n\u001b[32m--> \u001b[39m\u001b[32m253\u001b[39m validated_self = \u001b[38;5;28;43mself\u001b[39;49m\u001b[43m.\u001b[49m\u001b[43m__pydantic_validator__\u001b[49m\u001b[43m.\u001b[49m\u001b[43mvalidate_python\u001b[49m\u001b[43m(\u001b[49m\u001b[43mdata\u001b[49m\u001b[43m,\u001b[49m\u001b[43m \u001b[49m\u001b[43mself_instance\u001b[49m\u001b[43m=\u001b[49m\u001b[38;5;28;43mself\u001b[39;49m\u001b[43m)\u001b[49m\n\u001b[32m    254\u001b[39m \u001b[38;5;28;01mif\u001b[39;00m \u001b[38;5;28mself\u001b[39m \u001b[38;5;129;01mis\u001b[39;00m \u001b[38;5;129;01mnot\u001b[39;00m validated_self:\n\u001b[32m    255\u001b[39m     warnings.warn(\n\u001b[32m    256\u001b[39m         \u001b[33m'\u001b[39m\u001b[33mA custom validator is returning a value other than `self`.\u001b[39m\u001b[38;5;130;01m\\n\u001b[39;00m\u001b[33m'\u001b[39m\n\u001b[32m    257\u001b[39m         \u001b[33m\"\u001b[39m\u001b[33mReturning anything other than `self` from a top level model validator isn\u001b[39m\u001b[33m'\u001b[39m\u001b[33mt supported when validating via `__init__`.\u001b[39m\u001b[38;5;130;01m\\n\u001b[39;00m\u001b[33m\"\u001b[39m\n\u001b[32m    258\u001b[39m         \u001b[33m'\u001b[39m\u001b[33mSee the `model_validator` docs (https://docs.pydantic.dev/latest/concepts/validators/#model-validators) for more details.\u001b[39m\u001b[33m'\u001b[39m,\n\u001b[32m    259\u001b[39m         stacklevel=\u001b[32m2\u001b[39m,\n\u001b[32m    260\u001b[39m     )\n",
      "\u001b[31mValidationError\u001b[39m: 1 validation error for Tool\nphase_quality\n  Input should be a valid dictionary or instance of PhaseQualityData [type=model_type, input_value=[<PhaseQuality.GREAT: 'gr...<PhaseQuality.NA: 'na'>], input_type=list]\n    For further information visit https://errors.pydantic.dev/2.11/v/model_type"
     ]
    }
   ],
   "source": [
    "tools_from_code()\n",
    "Tool.get_instances()"
   ]
  },
  {
   "cell_type": "markdown",
   "metadata": {},
   "source": [
    "## InformationItems"
   ]
  },
  {
   "cell_type": "markdown",
   "metadata": {},
   "source": [
    "Just as with the `Tools` we have two functions to create instances for every `InformationItem`. We can use the function `informationitems_from_code` to create instances for every `InformationItem` available from the definitions hardcoded in the function. This function can be used to start a fresh database. We can use the function `informationitems_from_db` to create instances for every `InformationItem` available in the database.\n",
    "\n",
    "These functions don't return anything. The available instances are tracked in the `InformationItem` class and can be retrieved as a list using the `get_instances` method on the `InformationItem` class."
   ]
  },
  {
   "cell_type": "code",
   "execution_count": null,
   "metadata": {},
   "outputs": [],
   "source": [
    "#| export\n",
    "def informationitems_from_code():\n",
    "    \"\"\"Create all InformationItem instances as defined in the code.\"\"\"\n",
    "    web_article_item = InformationItem(\n",
    "        name=\"Web Article\",\n",
    "        info_type=InformationType.WEB_ARTICLE,\n",
    "        method=[Method.MANUAL, None, None, None, None],\n",
    "        toolflow=[(\"Reader\", \"Recall\"), \"Recall\", \"Reader\", None, None]\n",
    "    )\n",
    "\n",
    "    annotation_item = InformationItem(\n",
    "        name=\"Annotation\",\n",
    "        info_type=InformationType.ANNOTATION,\n",
    "        method=[Method.AUTOMATIC, None, None, None, None],\n",
    "        toolflow=[None, None, None, \"Readwise\", (\"Recall\", \"Obsidian\")]\n",
    "    )\n",
    "\n",
    "    note_item = InformationItem(\n",
    "        name=\"Note\",\n",
    "        info_type=InformationType.NOTE,\n",
    "        method=[Method.MANUAL, None, None, None, None],\n",
    "        toolflow=[None, \"Obsidian\", \"Obsidian\", \"Obsidian\", \"Obsidian\"]\n",
    "    )\n",
    "    book_item = InformationItem(\n",
    "        name=\"Book\",\n",
    "        info_type=InformationType.BOOK,\n",
    "        method=[Method.MANUAL, None, None, None, None],\n",
    "        toolflow=[\"LibraryThing\", \"LibraryThing\", \"NeoReader\", \"Readwise\", \"Obsidian\"]\n",
    "    )\n",
    "\n",
    "    podcast_item = InformationItem(\n",
    "        name=\"Podcast\",\n",
    "        info_type=InformationType.PODCAST,\n",
    "        method=[Method.AUTOMATIC, None, None, None, None],\n",
    "        toolflow=[\"Snipd\", \"Snipd\", \"Snipd\", \"Readwise\", \"Obsidian\"]\n",
    "    )\n",
    "\n",
    "    research_paper_item = InformationItem(\n",
    "        name=\"Research Paper\",\n",
    "        info_type=InformationType.RESEARCH_PAPER,\n",
    "        method=[Method.MANUAL, None, None, None, None],\n",
    "        toolflow=[(\"Recall\", \"NeoReader\"), (\"Recall\", \"NeoReader\"), \"NeoReader\", \"Readwise\", (\"Obsidian\", \"Recall\")]\n",
    "    )\n",
    "\n",
    "    document_item = InformationItem(\n",
    "        name=\"Document\",\n",
    "        info_type=InformationType.DOCUMENT,\n",
    "        method=[Method.MANUAL, None, None, None, None],\n",
    "        toolflow=[\"NeoReader\", \"NeoReader\", \"NeoReader\", \"Readwise\", (\"Obsidian\", \"Recall\")]\n",
    "    )\n",
    "\n",
    "    youtube_video_item = InformationItem(\n",
    "        name=\"YouTube Video\",\n",
    "        info_type=InformationType.YOUTUBE_VIDEO,\n",
    "        method=[Method.AUTOMATIC, None, None, None, None],\n",
    "        toolflow=[\"YouTube\", \"YouTube\", \"YouTube\", \"Obsidian\", \"Obsidian\"]\n",
    "    )"
   ]
  },
  {
   "cell_type": "markdown",
   "metadata": {},
   "source": [
    "Check all the available tools and information items."
   ]
  },
  {
   "cell_type": "code",
   "execution_count": null,
   "metadata": {},
   "outputs": [],
   "source": [
    "informationitems_from_code()"
   ]
  },
  {
   "cell_type": "code",
   "execution_count": null,
   "metadata": {},
   "outputs": [
    {
     "data": {
      "text/plain": [
       "{'web_article': InformationItem(name='Web Article', info_type=<InformationType.WEB_ARTICLE: 'web_article'>, method=[<Method.MANUAL: 'manual'>, None, None, None, None], toolflow=[['Reader', 'Recall'], 'Recall', 'Reader', None, None], slug='web_article'),\n",
       " 'annotation': InformationItem(name='Annotation', info_type=<InformationType.ANNOTATION: 'annotations&highlights'>, method=[<Method.AUTOMATIC: 'automatic'>, None, None, None, None], toolflow=[None, None, None, 'Readwise', ['Recall', 'Obsidian']], slug='annotation'),\n",
       " 'note': InformationItem(name='Note', info_type=<InformationType.NOTE: 'note'>, method=[<Method.MANUAL: 'manual'>, None, None, None, None], toolflow=[None, 'Obsidian', 'Obsidian', 'Obsidian', 'Obsidian'], slug='note'),\n",
       " 'book': InformationItem(name='Book', info_type=<InformationType.BOOK: 'book'>, method=[<Method.MANUAL: 'manual'>, None, None, None, None], toolflow=['LibraryThing', 'LibraryThing', 'NeoReader', 'Readwise', 'Obsidian'], slug='book'),\n",
       " 'podcast': InformationItem(name='Podcast', info_type=<InformationType.PODCAST: 'podcast'>, method=[<Method.AUTOMATIC: 'automatic'>, None, None, None, None], toolflow=['Snipd', 'Snipd', 'Snipd', 'Readwise', 'Obsidian'], slug='podcast'),\n",
       " 'research_paper': InformationItem(name='Research Paper', info_type=<InformationType.RESEARCH_PAPER: 'research_paper'>, method=[<Method.MANUAL: 'manual'>, None, None, None, None], toolflow=[['Recall', 'NeoReader'], ['Recall', 'NeoReader'], 'NeoReader', 'Readwise', ['Obsidian', 'Recall']], slug='research_paper'),\n",
       " 'document': InformationItem(name='Document', info_type=<InformationType.DOCUMENT: 'document'>, method=[<Method.MANUAL: 'manual'>, None, None, None, None], toolflow=['NeoReader', 'NeoReader', 'NeoReader', 'Readwise', ['Obsidian', 'Recall']], slug='document'),\n",
       " 'youtube_video': InformationItem(name='YouTube Video', info_type=<InformationType.YOUTUBE_VIDEO: 'youtube_video'>, method=[<Method.AUTOMATIC: 'automatic'>, None, None, None, None], toolflow=['YouTube', 'YouTube', 'YouTube', 'Obsidian', 'Obsidian'], slug='youtube_video')}"
      ]
     },
     "execution_count": null,
     "metadata": {},
     "output_type": "execute_result"
    }
   ],
   "source": [
    "InformationItem.get_instances()"
   ]
  },
  {
   "cell_type": "code",
   "execution_count": null,
   "metadata": {},
   "outputs": [],
   "source": [
    "#| hide\n",
    "import nbdev; nbdev.nbdev_export()"
   ]
  }
 ],
 "metadata": {
  "kernelspec": {
   "display_name": "python3",
   "language": "python",
   "name": "python3"
  }
 },
 "nbformat": 4,
 "nbformat_minor": 4
}
