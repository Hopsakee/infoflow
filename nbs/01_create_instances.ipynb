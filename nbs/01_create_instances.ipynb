{
 "cells": [
  {
   "cell_type": "markdown",
   "metadata": {},
   "source": [
    "# Create Instances\n",
    "\n",
    "> This module creates the different instances. In this module you can change the description of Tools, the flow of InformationItems. Add Tools and add InformationItems."
   ]
  },
  {
   "cell_type": "code",
   "execution_count": null,
   "metadata": {},
   "outputs": [],
   "source": [
    "#| default_exp creinst"
   ]
  },
  {
   "cell_type": "code",
   "execution_count": null,
   "metadata": {},
   "outputs": [],
   "source": [
    "#| hide\n",
    "from nbdev.showdoc import *"
   ]
  },
  {
   "cell_type": "code",
   "execution_count": null,
   "metadata": {},
   "outputs": [],
   "source": [
    "#| export\n",
    "from infoflow.clasdef import *"
   ]
  },
  {
   "cell_type": "markdown",
   "metadata": {},
   "source": [
    "First we create instances for each information item we want to be able to proces."
   ]
  },
  {
   "cell_type": "code",
   "execution_count": null,
   "metadata": {},
   "outputs": [],
   "source": [
    "#| export\n",
    "web_article_item = InformationItem(\n",
    "    info_type=InformationType.WEB_ARTICLE,\n",
    "    method=[Method.MANUAL, None, None, None, None],\n",
    "    toolflow=[(\"Reader\", \"Recall\"), \"Recall\", \"Reader\", None, None]\n",
    ")"
   ]
  },
  {
   "cell_type": "code",
   "execution_count": null,
   "metadata": {},
   "outputs": [],
   "source": [
    "#| export\n",
    "annotation_item = InformationItem(\n",
    "    info_type=InformationType.ANNOTATION,\n",
    "    method=[Method.AUTOMATIC, None, None, None, None],\n",
    "    toolflow=[None, None, None, \"Readwise\", (\"Recall\", \"Obsidian\")]\n",
    ")\n",
    "\n",
    "note_item = InformationItem(\n",
    "    info_type=InformationType.NOTE,\n",
    "    method=[Method.MANUAL, None, None, None, None],\n",
    "    toolflow=[None, \"Obsidian\", \"Obsidian\", \"Obsidian\", \"Obsidian\"]\n",
    ")\n",
    "book_item = InformationItem(\n",
    "    info_type=InformationType.BOOK,\n",
    "    method=[Method.MANUAL, None, None, None, None],\n",
    "    toolflow=[\"LibraryThing\", \"LibraryThing\", \"NeoReader\", \"Readwise\", \"Obsidian\"]\n",
    ")\n",
    "\n",
    "podcast_item = InformationItem(\n",
    "    info_type=InformationType.PODCAST,\n",
    "    method=[Method.AUTOMATIC, None, None, None, None],\n",
    "    toolflow=[\"Snipd\", \"Snipd\", \"Snipd\", \"Readwise\", \"Obsidian\"]\n",
    ")\n",
    "\n",
    "research_paper_item = InformationItem(\n",
    "    info_type=InformationType.RESEARCH_PAPER,\n",
    "    method=[Method.MANUAL, None, None, None, None],\n",
    "    toolflow=[(\"Recall\", \"NeoReader\"), (\"Recall\", \"NeoReader\"), \"NeoReader\", \"Readwise\", (\"Obsidian\", \"Recall\")]\n",
    ")\n",
    "\n",
    "document_item = InformationItem(\n",
    "    info_type=InformationType.DOCUMENT,\n",
    "    method=[Method.MANUAL, None, None, None, None],\n",
    "    toolflow=[\"NeoReader\", \"NeoReader\", \"NeoReader\", \"Readwise\", (\"Obsidian\", \"Recall\")]\n",
    ")\n",
    "\n",
    "youtube_video_item = InformationItem(\n",
    "    info_type=InformationType.YOUTUBE_VIDEO,\n",
    "    method=[Method.AUTOMATIC, None, None, None, None],\n",
    "    toolflow=[\"YouTube\", \"YouTube\", \"YouTube\", \"Obsidian\", \"Obsidian\"]\n",
    ")"
   ]
  },
  {
   "cell_type": "markdown",
   "metadata": {},
   "source": [
    "The next stap is to define instances for each Tool we use."
   ]
  },
  {
   "cell_type": "code",
   "execution_count": null,
   "metadata": {},
   "outputs": [],
   "source": [
    "#| export\n",
    "reader = Tool(\n",
    "    name=\"Reader\",\n",
    "    info_items=[web_article_item],\n",
    "    organization_system=[OrganizationSystem.TAGS],\n",
    "    phase_quality=[PhaseQuality.GREAT, PhaseQuality.BAD, PhaseQuality.GREAT, PhaseQuality.NA, PhaseQuality.NA]\n",
    ")\n",
    "\n",
    "recall = Tool(\n",
    "    name=\"Recall\",\n",
    "    info_items=[web_article_item],\n",
    "    organization_system=[OrganizationSystem.LINKS],\n",
    "    phase_quality=[PhaseQuality.GREAT, PhaseQuality.GREAT, PhaseQuality.NA, PhaseQuality.NA, PhaseQuality.GREAT]\n",
    ")\n",
    "\n",
    "readwise = Tool(\n",
    "    name=\"Readwise\",\n",
    "    info_items=[annotation_item],\n",
    "    organization_system=[OrganizationSystem.TAGS],\n",
    "    phase_quality=[PhaseQuality.NA, PhaseQuality.OK, PhaseQuality.NA, PhaseQuality.GREAT, PhaseQuality.OK]\n",
    ")\n",
    "\n",
    "obsidian = Tool(\n",
    "    name=\"Obsidian\",\n",
    "    info_items=[annotation_item, note_item],\n",
    "    organization_system=[OrganizationSystem.JOHNNY_DECIMAL, OrganizationSystem.LINKS],\n",
    "    phase_quality=[PhaseQuality.NA, PhaseQuality.OK, PhaseQuality.OK, PhaseQuality.GREAT, PhaseQuality.GREAT]\n",
    ")\n",
    "librarything = Tool(\n",
    "    name=\"LibraryThing\",\n",
    "    info_items=[book_item],\n",
    "    organization_system=[OrganizationSystem.TAGS],\n",
    "    phase_quality=[PhaseQuality.OK, PhaseQuality.BAD, PhaseQuality.NA, PhaseQuality.NA, PhaseQuality.NA]\n",
    ")\n",
    "\n",
    "snipd = Tool(\n",
    "    name=\"Snipd\",\n",
    "    info_items=[podcast_item],\n",
    "    organization_system=[OrganizationSystem.FOLDERS],\n",
    "    phase_quality=[PhaseQuality.OK, PhaseQuality.BAD, PhaseQuality.GREAT, PhaseQuality.NA, PhaseQuality.NA]\n",
    ")\n",
    "\n",
    "neoreader = Tool(\n",
    "    name=\"NeoReader\",\n",
    "    info_items=[book_item, research_paper_item, document_item],\n",
    "    organization_system=[OrganizationSystem.FOLDERS],\n",
    "    phase_quality=[PhaseQuality.OK, PhaseQuality.BAD, PhaseQuality.GREAT, PhaseQuality.NA, PhaseQuality.NA]\n",
    ")\n",
    "\n",
    "youtube = Tool(\n",
    "    name=\"YouTube\",\n",
    "    info_items=[youtube_video_item],\n",
    "    organization_system=[OrganizationSystem.FOLDERS],\n",
    "    phase_quality=[PhaseQuality.OK, PhaseQuality.BAD, PhaseQuality.OK, PhaseQuality.NA, PhaseQuality.NA]\n",
    ")\n"
   ]
  },
  {
   "cell_type": "code",
   "execution_count": null,
   "metadata": {},
   "outputs": [],
   "source": [
    "#| export\n",
    "web_article_item = InformationItem(\n",
    "    info_type=InformationType.WEB_ARTICLE,\n",
    "    method=[Method.MANUAL, None, None, None, None],\n",
    "    toolflow=[(\"Reader\", \"Recall\"), \"Recall\", \"Reader\", None, None]\n",
    ")"
   ]
  },
  {
   "cell_type": "code",
   "execution_count": null,
   "metadata": {},
   "outputs": [],
   "source": [
    "#| hide\n",
    "import nbdev; nbdev.nbdev_export()"
   ]
  }
 ],
 "metadata": {
  "kernelspec": {
   "display_name": "python3",
   "language": "python",
   "name": "python3"
  }
 },
 "nbformat": 4,
 "nbformat_minor": 4
}
