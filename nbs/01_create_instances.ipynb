{
 "cells": [
  {
   "cell_type": "markdown",
   "metadata": {},
   "source": [
    "# Create Instances\n",
    "\n",
    "> This module creates the different instances. In this module you can change the description of Tools, the flow of InformationItems. Add Tools and add InformationItems."
   ]
  },
  {
   "cell_type": "code",
   "execution_count": null,
   "metadata": {},
   "outputs": [],
   "source": [
    "# TODO: Maybe we don't need this file. We can use the app to create instances and place those in the database."
   ]
  },
  {
   "cell_type": "code",
   "execution_count": null,
   "metadata": {},
   "outputs": [],
   "source": [
    "#| default_exp creinst"
   ]
  },
  {
   "cell_type": "code",
   "execution_count": null,
   "metadata": {},
   "outputs": [],
   "source": [
    "#| hide\n",
    "from nbdev.showdoc import *"
   ]
  },
  {
   "cell_type": "code",
   "execution_count": null,
   "metadata": {},
   "outputs": [],
   "source": [
    "#| export\n",
    "from infoflow.classdb import *"
   ]
  },
  {
   "cell_type": "markdown",
   "metadata": {},
   "source": [
    "## Tools"
   ]
  },
  {
   "cell_type": "markdown",
   "metadata": {},
   "source": [
    "The function `tools_from_code` can be used to create instances for every `Tool` available. The instances are hardcoded in the function. This function can be used to start a fresh database.\n",
    "\n",
    "The function `tools_from_db` can be used to create instances for every `Tool` available in the database.\n",
    "\n",
    "In both cases the function does not return anything. The available instances are tracked in the `Tool` class and can be retrieved as a list using the `get_instances` method on the `Tool` class.\n",
    "\n",
    "We must start with creating instances for each `Tool` that we can use. This must be done before we can create instances for the `InformationItem` and `Improvement` classes, because both have fields that are validated against the field `name` in the `Tool` class."
   ]
  },
  {
   "cell_type": "code",
   "execution_count": null,
   "metadata": {},
   "outputs": [],
   "source": [
    "#| export\n",
    "def tools_from_code():\n",
    "    \"\"\"Create all Tool instances as defined in the code.\"\"\"\n",
    "    reader = Tool(\n",
    "        name=\"Reader\",\n",
    "        organization_system=[OrganizationSystem.TAGS],\n",
    "        phase_quality=[PhaseQuality.GREAT, PhaseQuality.BAD, PhaseQuality.GREAT, PhaseQuality.NA, PhaseQuality.NA]\n",
    "    )\n",
    "\n",
    "    recall = Tool(\n",
    "        name=\"Recall\",\n",
    "        organization_system=[OrganizationSystem.LINKS],\n",
    "        phase_quality=[PhaseQuality.GREAT, PhaseQuality.GREAT, PhaseQuality.NA, PhaseQuality.NA, PhaseQuality.GREAT]\n",
    "    )\n",
    "\n",
    "    readwise = Tool(\n",
    "        name=\"Readwise\",\n",
    "        organization_system=[OrganizationSystem.TAGS],\n",
    "        phase_quality=[PhaseQuality.NA, PhaseQuality.OK, PhaseQuality.NA, PhaseQuality.GREAT, PhaseQuality.OK]\n",
    "    )\n",
    "\n",
    "    obsidian = Tool(\n",
    "        name=\"Obsidian\",\n",
    "        organization_system=[OrganizationSystem.JOHNNY_DECIMAL, OrganizationSystem.LINKS],\n",
    "        phase_quality=[PhaseQuality.NA, PhaseQuality.OK, PhaseQuality.OK, PhaseQuality.GREAT, PhaseQuality.GREAT]\n",
    "    )\n",
    "    librarything = Tool(\n",
    "        name=\"LibraryThing\",\n",
    "        organization_system=[OrganizationSystem.TAGS],\n",
    "        phase_quality=[PhaseQuality.OK, PhaseQuality.BAD, PhaseQuality.NA, PhaseQuality.NA, PhaseQuality.NA]\n",
    "    )\n",
    "\n",
    "    snipd = Tool(\n",
    "        name=\"Snipd\",\n",
    "        organization_system=[OrganizationSystem.FOLDERS],\n",
    "        phase_quality=[PhaseQuality.OK, PhaseQuality.BAD, PhaseQuality.GREAT, PhaseQuality.NA, PhaseQuality.NA]\n",
    "    )\n",
    "\n",
    "    neoreader = Tool(\n",
    "        name=\"NeoReader\",\n",
    "        organization_system=[OrganizationSystem.FOLDERS],\n",
    "        phase_quality=[PhaseQuality.OK, PhaseQuality.BAD, PhaseQuality.GREAT, PhaseQuality.NA, PhaseQuality.NA]\n",
    "    )\n",
    "\n",
    "    youtube = Tool(\n",
    "        name=\"YouTube\",\n",
    "        organization_system=[OrganizationSystem.FOLDERS],\n",
    "        phase_quality=[PhaseQuality.OK, PhaseQuality.BAD, PhaseQuality.OK, PhaseQuality.NA, PhaseQuality.NA]\n",
    "    )\n"
   ]
  },
  {
   "cell_type": "markdown",
   "metadata": {},
   "source": [
    "The next stap is to define instances for each `InformationItem` we have."
   ]
  },
  {
   "cell_type": "code",
   "execution_count": null,
   "metadata": {},
   "outputs": [
    {
     "data": {
      "text/plain": [
       "[Tool(name='Reader', organization_system=[<OrganizationSystem.TAGS: 'tags'>], phase_quality=[<PhaseQuality.GREAT: 'great'>, <PhaseQuality.BAD: 'bad'>, <PhaseQuality.GREAT: 'great'>, <PhaseQuality.NA: 'na'>, <PhaseQuality.NA: 'na'>]),\n",
       " Tool(name='Recall', organization_system=[<OrganizationSystem.LINKS: 'links'>], phase_quality=[<PhaseQuality.GREAT: 'great'>, <PhaseQuality.GREAT: 'great'>, <PhaseQuality.NA: 'na'>, <PhaseQuality.NA: 'na'>, <PhaseQuality.GREAT: 'great'>]),\n",
       " Tool(name='Readwise', organization_system=[<OrganizationSystem.TAGS: 'tags'>], phase_quality=[<PhaseQuality.NA: 'na'>, <PhaseQuality.OK: 'ok'>, <PhaseQuality.NA: 'na'>, <PhaseQuality.GREAT: 'great'>, <PhaseQuality.OK: 'ok'>]),\n",
       " Tool(name='Obsidian', organization_system=[<OrganizationSystem.JOHNNY_DECIMAL: 'johnny_decimal'>, <OrganizationSystem.LINKS: 'links'>], phase_quality=[<PhaseQuality.NA: 'na'>, <PhaseQuality.OK: 'ok'>, <PhaseQuality.OK: 'ok'>, <PhaseQuality.GREAT: 'great'>, <PhaseQuality.GREAT: 'great'>]),\n",
       " Tool(name='LibraryThing', organization_system=[<OrganizationSystem.TAGS: 'tags'>], phase_quality=[<PhaseQuality.OK: 'ok'>, <PhaseQuality.BAD: 'bad'>, <PhaseQuality.NA: 'na'>, <PhaseQuality.NA: 'na'>, <PhaseQuality.NA: 'na'>]),\n",
       " Tool(name='Snipd', organization_system=[<OrganizationSystem.FOLDERS: 'folders'>], phase_quality=[<PhaseQuality.OK: 'ok'>, <PhaseQuality.BAD: 'bad'>, <PhaseQuality.GREAT: 'great'>, <PhaseQuality.NA: 'na'>, <PhaseQuality.NA: 'na'>]),\n",
       " Tool(name='NeoReader', organization_system=[<OrganizationSystem.FOLDERS: 'folders'>], phase_quality=[<PhaseQuality.OK: 'ok'>, <PhaseQuality.BAD: 'bad'>, <PhaseQuality.GREAT: 'great'>, <PhaseQuality.NA: 'na'>, <PhaseQuality.NA: 'na'>]),\n",
       " Tool(name='YouTube', organization_system=[<OrganizationSystem.FOLDERS: 'folders'>], phase_quality=[<PhaseQuality.OK: 'ok'>, <PhaseQuality.BAD: 'bad'>, <PhaseQuality.OK: 'ok'>, <PhaseQuality.NA: 'na'>, <PhaseQuality.NA: 'na'>])]"
      ]
     },
     "execution_count": null,
     "metadata": {},
     "output_type": "execute_result"
    }
   ],
   "source": [
    "tools_from_code()\n",
    "Tool.get_instances()"
   ]
  },
  {
   "cell_type": "markdown",
   "metadata": {},
   "source": [
    "## InformationItems"
   ]
  },
  {
   "cell_type": "markdown",
   "metadata": {},
   "source": [
    "Just as with the `Tools` we have two functions to create instances for every `InformationItem`. We can use the function `informationitems_from_code` to create instances for every `InformationItem` available from the definitions hardcoded in the function. This function can be used to start a fresh database. We can use the function `informationitems_from_db` to create instances for every `InformationItem` available in the database.\n",
    "\n",
    "These functions don't return anything. The available instances are tracked in the `InformationItem` class and can be retrieved as a list using the `get_instances` method on the `InformationItem` class."
   ]
  },
  {
   "cell_type": "code",
   "execution_count": null,
   "metadata": {},
   "outputs": [],
   "source": [
    "#| export\n",
    "def informationitems_from_code():\n",
    "    \"\"\"Create all InformationItem instances as defined in the code.\"\"\"\n",
    "    web_article_item = InformationItem(\n",
    "        name=\"Web Article\",\n",
    "        info_type=InformationType.WEB_ARTICLE,\n",
    "        method=[Method.MANUAL, None, None, None, None],\n",
    "        toolflow=[(\"Reader\", \"Recall\"), \"Recall\", \"Reader\", None, None]\n",
    "    )\n",
    "\n",
    "    annotation_item = InformationItem(\n",
    "        name=\"Annotation\",\n",
    "        info_type=InformationType.ANNOTATION,\n",
    "        method=[Method.AUTOMATIC, None, None, None, None],\n",
    "        toolflow=[None, None, None, \"Readwise\", (\"Recall\", \"Obsidian\")]\n",
    "    )\n",
    "\n",
    "    note_item = InformationItem(\n",
    "        name=\"Note\",\n",
    "        info_type=InformationType.NOTE,\n",
    "        method=[Method.MANUAL, None, None, None, None],\n",
    "        toolflow=[None, \"Obsidian\", \"Obsidian\", \"Obsidian\", \"Obsidian\"]\n",
    "    )\n",
    "    book_item = InformationItem(\n",
    "        name=\"Book\",\n",
    "        info_type=InformationType.BOOK,\n",
    "        method=[Method.MANUAL, None, None, None, None],\n",
    "        toolflow=[\"LibraryThing\", \"LibraryThing\", \"NeoReader\", \"Readwise\", \"Obsidian\"]\n",
    "    )\n",
    "\n",
    "    podcast_item = InformationItem(\n",
    "        name=\"Podcast\",\n",
    "        info_type=InformationType.PODCAST,\n",
    "        method=[Method.AUTOMATIC, None, None, None, None],\n",
    "        toolflow=[\"Snipd\", \"Snipd\", \"Snipd\", \"Readwise\", \"Obsidian\"]\n",
    "    )\n",
    "\n",
    "    research_paper_item = InformationItem(\n",
    "        name=\"Research Paper\",\n",
    "        info_type=InformationType.RESEARCH_PAPER,\n",
    "        method=[Method.MANUAL, None, None, None, None],\n",
    "        toolflow=[(\"Recall\", \"NeoReader\"), (\"Recall\", \"NeoReader\"), \"NeoReader\", \"Readwise\", (\"Obsidian\", \"Recall\")]\n",
    "    )\n",
    "\n",
    "    document_item = InformationItem(\n",
    "        name=\"Document\",\n",
    "        info_type=InformationType.DOCUMENT,\n",
    "        method=[Method.MANUAL, None, None, None, None],\n",
    "        toolflow=[\"NeoReader\", \"NeoReader\", \"NeoReader\", \"Readwise\", (\"Obsidian\", \"Recall\")]\n",
    "    )\n",
    "\n",
    "    youtube_video_item = InformationItem(\n",
    "        name=\"YouTube Video\",\n",
    "        info_type=InformationType.YOUTUBE_VIDEO,\n",
    "        method=[Method.AUTOMATIC, None, None, None, None],\n",
    "        toolflow=[\"YouTube\", \"YouTube\", \"YouTube\", \"Obsidian\", \"Obsidian\"]\n",
    "    )"
   ]
  },
  {
   "cell_type": "markdown",
   "metadata": {},
   "source": [
    "Check all the available tools and information items."
   ]
  },
  {
   "cell_type": "code",
   "execution_count": null,
   "metadata": {},
   "outputs": [
    {
     "data": {
      "text/plain": [
       "[Tool(name='Reader', organization_system=[<OrganizationSystem.TAGS: 'tags'>], phase_quality=[<PhaseQuality.GREAT: 'great'>, <PhaseQuality.BAD: 'bad'>, <PhaseQuality.GREAT: 'great'>, <PhaseQuality.NA: 'na'>, <PhaseQuality.NA: 'na'>]),\n",
       " Tool(name='Recall', organization_system=[<OrganizationSystem.LINKS: 'links'>], phase_quality=[<PhaseQuality.GREAT: 'great'>, <PhaseQuality.GREAT: 'great'>, <PhaseQuality.NA: 'na'>, <PhaseQuality.NA: 'na'>, <PhaseQuality.GREAT: 'great'>]),\n",
       " Tool(name='Readwise', organization_system=[<OrganizationSystem.TAGS: 'tags'>], phase_quality=[<PhaseQuality.NA: 'na'>, <PhaseQuality.OK: 'ok'>, <PhaseQuality.NA: 'na'>, <PhaseQuality.GREAT: 'great'>, <PhaseQuality.OK: 'ok'>]),\n",
       " Tool(name='Obsidian', organization_system=[<OrganizationSystem.JOHNNY_DECIMAL: 'johnny_decimal'>, <OrganizationSystem.LINKS: 'links'>], phase_quality=[<PhaseQuality.NA: 'na'>, <PhaseQuality.OK: 'ok'>, <PhaseQuality.OK: 'ok'>, <PhaseQuality.GREAT: 'great'>, <PhaseQuality.GREAT: 'great'>]),\n",
       " Tool(name='LibraryThing', organization_system=[<OrganizationSystem.TAGS: 'tags'>], phase_quality=[<PhaseQuality.OK: 'ok'>, <PhaseQuality.BAD: 'bad'>, <PhaseQuality.NA: 'na'>, <PhaseQuality.NA: 'na'>, <PhaseQuality.NA: 'na'>]),\n",
       " Tool(name='Snipd', organization_system=[<OrganizationSystem.FOLDERS: 'folders'>], phase_quality=[<PhaseQuality.OK: 'ok'>, <PhaseQuality.BAD: 'bad'>, <PhaseQuality.GREAT: 'great'>, <PhaseQuality.NA: 'na'>, <PhaseQuality.NA: 'na'>]),\n",
       " Tool(name='NeoReader', organization_system=[<OrganizationSystem.FOLDERS: 'folders'>], phase_quality=[<PhaseQuality.OK: 'ok'>, <PhaseQuality.BAD: 'bad'>, <PhaseQuality.GREAT: 'great'>, <PhaseQuality.NA: 'na'>, <PhaseQuality.NA: 'na'>]),\n",
       " Tool(name='YouTube', organization_system=[<OrganizationSystem.FOLDERS: 'folders'>], phase_quality=[<PhaseQuality.OK: 'ok'>, <PhaseQuality.BAD: 'bad'>, <PhaseQuality.OK: 'ok'>, <PhaseQuality.NA: 'na'>, <PhaseQuality.NA: 'na'>])]"
      ]
     },
     "execution_count": null,
     "metadata": {},
     "output_type": "execute_result"
    }
   ],
   "source": [
    "informationitems_from_code()"
   ]
  },
  {
   "cell_type": "code",
   "execution_count": null,
   "metadata": {},
   "outputs": [
    {
     "data": {
      "text/plain": [
       "[InformationItem(name='Web Article', info_type=<InformationType.WEB_ARTICLE: 'web_article'>, method=[<Method.MANUAL: 'manual'>, None, None, None, None], toolflow=[['Reader', 'Recall'], 'Recall', 'Reader', None, None]),\n",
       " InformationItem(name='Annotation', info_type=<InformationType.ANNOTATION: 'annotations&highlights'>, method=[<Method.AUTOMATIC: 'automatic'>, None, None, None, None], toolflow=[None, None, None, 'Readwise', ['Recall', 'Obsidian']]),\n",
       " InformationItem(name='Note', info_type=<InformationType.NOTE: 'note'>, method=[<Method.MANUAL: 'manual'>, None, None, None, None], toolflow=[None, 'Obsidian', 'Obsidian', 'Obsidian', 'Obsidian']),\n",
       " InformationItem(name='Book', info_type=<InformationType.BOOK: 'book'>, method=[<Method.MANUAL: 'manual'>, None, None, None, None], toolflow=['LibraryThing', 'LibraryThing', 'NeoReader', 'Readwise', 'Obsidian']),\n",
       " InformationItem(name='Podcast', info_type=<InformationType.PODCAST: 'podcast'>, method=[<Method.AUTOMATIC: 'automatic'>, None, None, None, None], toolflow=['Snipd', 'Snipd', 'Snipd', 'Readwise', 'Obsidian']),\n",
       " InformationItem(name='Research Paper', info_type=<InformationType.RESEARCH_PAPER: 'research_paper'>, method=[<Method.MANUAL: 'manual'>, None, None, None, None], toolflow=[['Recall', 'NeoReader'], ['Recall', 'NeoReader'], 'NeoReader', 'Readwise', ['Obsidian', 'Recall']]),\n",
       " InformationItem(name='Document', info_type=<InformationType.DOCUMENT: 'document'>, method=[<Method.MANUAL: 'manual'>, None, None, None, None], toolflow=['NeoReader', 'NeoReader', 'NeoReader', 'Readwise', ['Obsidian', 'Recall']]),\n",
       " InformationItem(name='YouTube Video', info_type=<InformationType.YOUTUBE_VIDEO: 'youtube_video'>, method=[<Method.AUTOMATIC: 'automatic'>, None, None, None, None], toolflow=['YouTube', 'YouTube', 'YouTube', 'Obsidian', 'Obsidian'])]"
      ]
     },
     "execution_count": null,
     "metadata": {},
     "output_type": "execute_result"
    }
   ],
   "source": [
    "InformationItem.get_instances()"
   ]
  },
  {
   "cell_type": "code",
   "execution_count": null,
   "metadata": {},
   "outputs": [],
   "source": [
    "#| hide\n",
    "import nbdev; nbdev.nbdev_export()"
   ]
  }
 ],
 "metadata": {
  "kernelspec": {
   "display_name": "python3",
   "language": "python",
   "name": "python3"
  }
 },
 "nbformat": 4,
 "nbformat_minor": 4
}
