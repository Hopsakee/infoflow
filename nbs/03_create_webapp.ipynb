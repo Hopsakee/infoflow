{
 "cells": [
  {
   "cell_type": "markdown",
   "metadata": {},
   "source": [
    "# Create the webapplication logic and visualisation\n",
    "\n",
    "> This module creates the `FastHTML` webapplication and starts the server."
   ]
  },
  {
   "cell_type": "code",
   "execution_count": null,
   "metadata": {},
   "outputs": [],
   "source": [
    "#| default_exp webapp"
   ]
  },
  {
   "cell_type": "code",
   "execution_count": null,
   "metadata": {},
   "outputs": [],
   "source": [
    "#| hide\n",
    "from nbdev.showdoc import *"
   ]
  },
  {
   "cell_type": "code",
   "execution_count": null,
   "metadata": {},
   "outputs": [],
   "source": [
    "#| export\n",
    "from fasthtml.common import *\n",
    "from monsterui.all import *\n",
    "\n",
    "from infoflow.clasdef import *\n",
    "from infoflow.creinst import *\n",
    "from infoflow.viz import *"
   ]
  },
  {
   "cell_type": "markdown",
   "metadata": {},
   "source": [
    "## Stucture of the web-application\n",
    "\n",
    "The web-application will show on the main page the information flow as created by the `create_combined_infoflow_viz` from the `infoflow.viz` module. This function returns a `graphviz.graphs.Digraph` object. We turn this object into a `SVG` string which we can then modify to create clickable nodes. To make this possible we need several steps:\n",
    "\n",
    "1. Create the infoflow graph\n",
    "2. Convert the graph to an SVG string\n",
    "3. Create a dictionary from all the nodes in the graph\n",
    "4. Use that dictionary to alter the `SVG` string to create clickable nodes\n",
    "5. Create the main page from the web-application that shows the information flow as an `SVG` image.\n",
    "6. Create a function to make a webpage for every element in the infoflow.\n",
    "\n",
    "::: {callout}\n",
    "Ad. 4.\n",
    "\n",
    "We could also create this dictionary from the instances we made from all the elements in our infoflow. The same instances that are use to create the graph in the first place. But I choose to create the dictionary from the `SVG`-string from the `Digraph` object, becaust then I will be able to use that function to create clickable `SVG` images from other sources as well.\n",
    ":::"
   ]
  },
  {
   "cell_type": "markdown",
   "metadata": {},
   "source": [
    "#### How to visualize a `SVG` string in a webapp\n",
    "\n",
    "Use `NotStr()` to prevent HTML escaping of the SVG string."
   ]
  },
  {
   "cell_type": "code",
   "execution_count": null,
   "metadata": {},
   "outputs": [],
   "source": [
    "svg_sample = \"\"\"<svg width=\"268pt\" height=\"338pt\" viewBox=\"0.00 0.00 267.84 338.16\" xmlns=\"http://www.w3.org/2000/svg\">\n",
    "<g id=\"graph0\" class=\"graph\" transform=\"scale(1 1) rotate(0) translate(4 334.16)\">\n",
    "<polygon fill=\"white\" stroke=\"transparent\" points=\"-4,4 -4,-334.16 263.84,-334.16 263.84,4 -4,4\"/>\n",
    "<g id=\"node3\" class=\"node\">\n",
    "<polygon fill=\"lightgreen\" stroke=\"black\" points=\"198.09,-129.08 163.76,-160.13 95.08,-160.13 60.75,-129.08 95.08,-98.03 163.76,-98.03 198.09,-129.08\"/>\n",
    "<text text-anchor=\"middle\" x=\"129.42\" y=\"-132.88\" font-family=\"Times,serif\" font-size=\"14.00\">Recall</text>\n",
    "<text text-anchor=\"middle\" x=\"129.42\" y=\"-117.88\" font-family=\"Times,serif\" font-size=\"14.00\">(retrieve)</text>\n",
    "</g>\n",
    "</svg>\"\"\""
   ]
  },
  {
   "cell_type": "code",
   "execution_count": null,
   "metadata": {},
   "outputs": [
    {
     "data": {
      "text/html": [
       "<div><svg width=\"268pt\" height=\"338pt\" viewBox=\"0.00 0.00 267.84 338.16\" xmlns=\"http://www.w3.org/2000/svg\">\n",
       "<g id=\"graph0\" class=\"graph\" transform=\"scale(1 1) rotate(0) translate(4 334.16)\">\n",
       "<polygon fill=\"white\" stroke=\"transparent\" points=\"-4,4 -4,-334.16 263.84,-334.16 263.84,4 -4,4\"/>\n",
       "<g id=\"node3\" class=\"node\">\n",
       "<polygon fill=\"lightgreen\" stroke=\"black\" points=\"198.09,-129.08 163.76,-160.13 95.08,-160.13 60.75,-129.08 95.08,-98.03 163.76,-98.03 198.09,-129.08\"/>\n",
       "<text text-anchor=\"middle\" x=\"129.42\" y=\"-132.88\" font-family=\"Times,serif\" font-size=\"14.00\">Recall</text>\n",
       "<text text-anchor=\"middle\" x=\"129.42\" y=\"-117.88\" font-family=\"Times,serif\" font-size=\"14.00\">(retrieve)</text>\n",
       "</g>\n",
       "</svg></div>\n"
      ],
      "text/plain": [
       "<IPython.core.display.HTML object>"
      ]
     },
     "metadata": {},
     "output_type": "display_data"
    }
   ],
   "source": [
    "show(Div(NotStr(svg_sample)))"
   ]
  },
  {
   "cell_type": "markdown",
   "metadata": {},
   "source": [
    "#### How to make a node from the `Digraph` `SVG`-string clickable in `FastHTML`\n",
    "\n",
    "- Add onclick handlers with htmx.ajax calls to the <g> elements you want clickable\n",
    "- Include a target div (#content-area) where content will be swapped\n",
    "- Add a CSS style attribute so the pointer cursor changes to a hand when hovering over the node\n",
    "\n",
    "For example you can add this to the <g> element of the node you want clickable:\n",
    "\n",
    "```python\n",
    "onclick=\"htmx.ajax('GET', '/recall-retrieve', {target: '#content-area', swap: 'outerHTML'})\"\n",
    "style=\"cursor: pointer;\"\n",
    "```\n",
    "\n",
    "But a more concise way is to add CSS styling to the FastHTML app that targets all nodes:\n",
    "\n",
    "```python\n",
    ".node { cursor: pointer; }\n",
    "```\n",
    "\n",
    "That is what we will be using in this application."
   ]
  },
  {
   "cell_type": "markdown",
   "metadata": {},
   "source": [
    "Below is an example of a `SVG`-string with a clickable node that shows a changing pointer cursor when hovering over it."
   ]
  },
  {
   "cell_type": "code",
   "execution_count": null,
   "metadata": {},
   "outputs": [],
   "source": [
    "svg_sample_click = \"\"\"<svg width=\"268pt\" height=\"338pt\" viewBox=\"0.00 0.00 267.84 338.16\" xmlns=\"http://www.w3.org/2000/svg\">\n",
    "<g id=\"graph0\" class=\"graph\" transform=\"scale(1 1) rotate(0) translate(4 334.16)\">\n",
    "<polygon fill=\"white\" stroke=\"transparent\" points=\"-4,4 -4,-334.16 263.84,-334.16 263.84,4 -4,4\"/>\n",
    "<g id=\"node3\" class=\"node\" onclick=\"htmx.ajax('GET', '/recall-retrieve', {target: '#content-area', swap: 'outerHTML'})\" style=\"cursor: pointer;\">\n",
    "<polygon fill=\"lightgreen\" stroke=\"black\" points=\"198.09,-129.08 163.76,-160.13 95.08,-160.13 60.75,-129.08 95.08,-98.03 163.76,-98.03 198.09,-129.08\"/>\n",
    "<text text-anchor=\"middle\" x=\"129.42\" y=\"-132.88\" font-family=\"Times,serif\" font-size=\"14.00\">Recall</text>\n",
    "<text text-anchor=\"middle\" x=\"129.42\" y=\"-117.88\" font-family=\"Times,serif\" font-size=\"14.00\">(retrieve)</text>\n",
    "</g>\n",
    "</svg>\"\"\""
   ]
  },
  {
   "cell_type": "markdown",
   "metadata": {},
   "source": [
    "The below example can't be clicked, because it is not running on a webserver and the GET request will also fail, because the endpoint doesn't exist yet.\n",
    "But it does show how the pointer changes."
   ]
  },
  {
   "cell_type": "code",
   "execution_count": null,
   "metadata": {},
   "outputs": [
    {
     "data": {
      "text/html": [
       "<div id=\"content-area\"><svg width=\"268pt\" height=\"338pt\" viewBox=\"0.00 0.00 267.84 338.16\" xmlns=\"http://www.w3.org/2000/svg\">\n",
       "<g id=\"graph0\" class=\"graph\" transform=\"scale(1 1) rotate(0) translate(4 334.16)\">\n",
       "<polygon fill=\"white\" stroke=\"transparent\" points=\"-4,4 -4,-334.16 263.84,-334.16 263.84,4 -4,4\"/>\n",
       "<g id=\"node3\" class=\"node\" onclick=\"htmx.ajax('GET', '/recall-retrieve', {target: '#content-area', swap: 'outerHTML'})\" style=\"cursor: pointer;\">\n",
       "<polygon fill=\"lightgreen\" stroke=\"black\" points=\"198.09,-129.08 163.76,-160.13 95.08,-160.13 60.75,-129.08 95.08,-98.03 163.76,-98.03 198.09,-129.08\"/>\n",
       "<text text-anchor=\"middle\" x=\"129.42\" y=\"-132.88\" font-family=\"Times,serif\" font-size=\"14.00\">Recall</text>\n",
       "<text text-anchor=\"middle\" x=\"129.42\" y=\"-117.88\" font-family=\"Times,serif\" font-size=\"14.00\">(retrieve)</text>\n",
       "</g>\n",
       "</svg></div>\n"
      ],
      "text/plain": [
       "<IPython.core.display.HTML object>"
      ]
     },
     "metadata": {},
     "output_type": "display_data"
    }
   ],
   "source": [
    "show(Div(NotStr(svg_sample_click), id=\"content-area\"))"
   ]
  },
  {
   "cell_type": "code",
   "execution_count": null,
   "metadata": {},
   "outputs": [],
   "source": []
  },
  {
   "cell_type": "code",
   "execution_count": null,
   "metadata": {},
   "outputs": [],
   "source": [
    "#| hide\n",
    "import nbdev; nbdev.nbdev_export()"
   ]
  }
 ],
 "metadata": {
  "kernelspec": {
   "display_name": "python3",
   "language": "python",
   "name": "python3"
  }
 },
 "nbformat": 4,
 "nbformat_minor": 4
}
