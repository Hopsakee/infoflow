{
 "cells": [
  {
   "cell_type": "markdown",
   "metadata": {},
   "source": [
    "# Define Classes\n",
    "\n",
    "> This module defines the classes we use to represent the PKM workflow."
   ]
  },
  {
   "cell_type": "code",
   "execution_count": null,
   "metadata": {},
   "outputs": [],
   "source": [
    "#| default_exp clasdef"
   ]
  },
  {
   "cell_type": "code",
   "execution_count": null,
   "metadata": {},
   "outputs": [],
   "source": [
    "#| hide\n",
    "from nbdev.showdoc import *"
   ]
  },
  {
   "cell_type": "code",
   "execution_count": null,
   "metadata": {},
   "outputs": [],
   "source": [
    "#| export\n",
    "from enum import Enum\n",
    "from typing import List, Union\n",
    "from pydantic import BaseModel"
   ]
  },
  {
   "cell_type": "markdown",
   "metadata": {},
   "source": [
    "First we define the possible values of the different variables that are available in the classes. We use the module `enum` to define **Enumerations**. We use this to bind the possible values to a variable name, making the code more readable and maintainable."
   ]
  },
  {
   "cell_type": "code",
   "execution_count": null,
   "metadata": {},
   "outputs": [],
   "source": [
    "#| export\n",
    "class InformationType(Enum):\n",
    "    \"\"\"Information content types that flow through the PKM workflow.\"\"\"\n",
    "    BOOK = \"book\"\n",
    "    RESEARCH_PAPER = \"research_paper\"\n",
    "    DOCUMENT = \"document\"\n",
    "    ANNOTATION = \"annotations&highlights\"\n",
    "    NOTE = \"note\"\n",
    "    EMAIL = \"email\"\n",
    "    DISCORD_MESSAGE = \"discord_message\"\n",
    "    WEB_ARTICLE = \"web_article\"\n",
    "    YOUTUBE_VIDEO = \"youtube_video\"\n",
    "    PODCAST = \"podcast\"\n",
    "    PRODUCT_IDEA = \"product_idea\"\n",
    "    PROJECT_IDEA = \"project_idea\"\n",
    "\n",
    "class Method(Enum):\n",
    "    \"\"\"How actions are performed - manually or automatically.\"\"\"\n",
    "    MANUAL = \"manual\"\n",
    "    AUTOMATIC = \"automatic\"\n",
    "\n",
    "class Phase(Enum):\n",
    "    \"\"\"The five phases of the PKM workflow.\"\"\"\n",
    "    COLLECT = \"collect\"\n",
    "    RETRIEVE = \"retrieve\"\n",
    "    CONSUME = \"consume\"\n",
    "    EXTRACT = \"extract\"\n",
    "    REFINE = \"refine\"\n",
    "\n",
    "class PhaseQuality(Enum):\n",
    "    \"\"\"Quality rating for how well a tool performs in each phase.\"\"\"\n",
    "    NA = \"na\"\n",
    "    BAD = \"bad\"\n",
    "    OK = \"ok\"\n",
    "    GREAT = \"great\"\n",
    "\n",
    "class OrganizationSystem(Enum):\n",
    "    \"\"\"How tools organize and structure information.\"\"\"\n",
    "    TAGS = \"tags\"\n",
    "    FOLDERS = \"folders\"\n",
    "    LINKS = \"links\"\n",
    "    JOHNNY_DECIMAL = \"johnny_decimal\""
   ]
  },
  {
   "cell_type": "markdown",
   "metadata": {},
   "source": [
    "Next we create a dataclass for each item we need to be present in the PKM workflow."
   ]
  },
  {
   "cell_type": "code",
   "execution_count": null,
   "metadata": {},
   "outputs": [],
   "source": [
    "#| export\n",
    "class InformationItem(BaseModel):\n",
    "    \"\"\"Represents an information item flowing through the PKM workflow.\"\"\"\n",
    "    info_type: InformationType\n",
    "    method: list[Union[Method, None]]  # [collect, retrieve, consume, extract, refine]\n",
    "    toolflow: list  # [collect, retrieve, consume, extract, refine]\n",
    "\n",
    "class Tool(BaseModel):\n",
    "    \"\"\"Represents a PKM tool with supported information items.\"\"\"\n",
    "    name: str\n",
    "    info_items: list[InformationItem]\n",
    "    organization_system: list[OrganizationSystem]\n",
    "    phase_quality: list[PhaseQuality]\n",
    "\n",
    "class Improvement(BaseModel):\n",
    "    \"\"\"Tracks workflow improvements needed for better PKM effectiveness.\"\"\"\n",
    "    what: str\n",
    "    why: str\n",
    "    prio: int\n",
    "    workflow_routes: list"
   ]
  },
  {
   "cell_type": "code",
   "execution_count": null,
   "metadata": {},
   "outputs": [],
   "source": [
    "#| hide\n",
    "import nbdev; nbdev.nbdev_export()"
   ]
  }
 ],
 "metadata": {
  "kernelspec": {
   "display_name": "python3",
   "language": "python",
   "name": "python3"
  }
 },
 "nbformat": 4,
 "nbformat_minor": 4
}
